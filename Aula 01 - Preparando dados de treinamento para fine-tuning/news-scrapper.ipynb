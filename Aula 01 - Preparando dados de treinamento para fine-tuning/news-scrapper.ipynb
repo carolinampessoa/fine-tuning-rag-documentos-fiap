{
  "cells": [
    {
      "cell_type": "markdown",
      "metadata": {
        "id": "view-in-github",
        "colab_type": "text"
      },
      "source": [
        "<a href=\"https://colab.research.google.com/github/carolinampessoa/fine-tuning-rag-documentos-fiap/blob/main/Aula%2001%20-%20Preparando%20dados%20de%20treinamento%20para%20fine-tuning/news-scrapper.ipynb\" target=\"_parent\"><img src=\"https://colab.research.google.com/assets/colab-badge.svg\" alt=\"Open In Colab\"/></a>"
      ]
    },
    {
      "cell_type": "code",
      "execution_count": 27,
      "metadata": {
        "colab": {
          "base_uri": "https://localhost:8080/"
        },
        "id": "xMijuVjl1_2X",
        "outputId": "3b1a485f-417e-46a6-bac6-5ecd1aea041f"
      },
      "outputs": [
        {
          "output_type": "stream",
          "name": "stdout",
          "text": [
            "Requirement already satisfied: lxml in /usr/local/lib/python3.12/dist-packages (5.4.0)\n"
          ]
        }
      ],
      "source": [
        "#Conexão com o Google Drive\n",
        "from google.colab import drive\n",
        "drive.mount('/content/drive')"
      ]
    },
    {
      "cell_type": "code",
      "execution_count": 30,
      "metadata": {
        "id": "qpUkpvTw2FsX"
      },
      "outputs": [],
      "source": [
        "#Importar bibliotecas\n",
        "import requests\n",
        "from bs4 import BeautifulSoup"
      ]
    },
    {
      "cell_type": "code",
      "execution_count": 42,
      "metadata": {
        "id": "OIOgTXQ-2F47"
      },
      "outputs": [],
      "source": [
        "#Definindo a função que retornará os links\n",
        "\n",
        "def scrape_cnn_links(url):\n",
        "    response = requests.get(url)\n",
        "\n",
        "    # Se a request tiver retorno com sucesso\n",
        "    if response.status_code == 200:\n",
        "        # Parsing do conteúdo da página\n",
        "        soup = BeautifulSoup(response.text, 'html.parser')\n",
        "\n",
        "        valid_links = []\n",
        "\n",
        "        # Encontrar os links de notícias\n",
        "        for a in soup.find_all('a', href=True):\n",
        "            href = a['href']\n",
        "            # Checagem se o link encontrado é um documento HTML\n",
        "            if href.startswith('/'): #and href.endswith('.html'):\n",
        "                # Concatenar com a URL padrão do site\n",
        "              full_link = f\"https://www.cnn.com{href}\"\n",
        "              valid_links.append(full_link)\n",
        "            #else: pass\n",
        "\n",
        "        return valid_links\n",
        "    else:\n",
        "        return f\"Falha ao extrair o conteúdo da notícia: {response.status_code}\"\n"
      ]
    },
    {
      "cell_type": "code",
      "execution_count": 43,
      "metadata": {
        "id": "9VRX_63j2F7u"
      },
      "outputs": [],
      "source": [
        "# Definindo a URL padrão\n",
        "url = \"https://edition.cnn.com/world\"\n",
        "\n",
        "# Chama a função de scrap dos dados e salva as URLs em um arquivo\n",
        "links = scrape_cnn_links(url)\n",
        "with open('CNN_Links.txt', 'w') as file:\n",
        "    for link in links:\n",
        "        file.write(link + '\\n')"
      ]
    },
    {
      "cell_type": "code",
      "execution_count": 44,
      "metadata": {
        "id": "Eew78btb2F-y",
        "colab": {
          "base_uri": "https://localhost:8080/"
        },
        "outputId": "c1f54901-9a8b-42f7-c5cc-443f26defc24"
      },
      "outputs": [
        {
          "output_type": "stream",
          "name": "stdout",
          "text": [
            "['https://www.cnn.com/account/settings', 'https://www.cnn.com/newsletters', 'https://www.cnn.com/follow?iid=fw_var-nav', 'https://www.cnn.com/account/settings', 'https://www.cnn.com/newsletters', 'https://www.cnn.com/follow?iid=fw_var-nav', 'https://www.cnn.com/2025/09/28/middleeast/netanyahu-trump-peace-reservations-intl', 'https://www.cnn.com/2025/09/28/middleeast/netanyahu-trump-peace-reservations-intl', 'https://www.cnn.com/2025/09/28/middleeast/israel-syria-normalization-strikes-intl', 'https://www.cnn.com/2025/09/27/india/india-actor-politician-vijay-rally-intl', 'https://www.cnn.com/2025/09/28/europe/moldova-election-ballots-intl', 'https://www.cnn.com/2025/09/28/uk/prince-william-eugene-levy-hardest-year-intl', 'https://www.cnn.com/2025/09/28/europe/poland-scrambles-jets-heavy-russia-airstrikes-ukraine-intl-hnk', 'https://www.cnn.com/2025/09/27/europe/i-am-charlie-hebdo-kirk-shooting-free-speech-intl', 'https://www.cnn.com/2025/09/27/europe/i-am-charlie-hebdo-kirk-shooting-free-speech-intl', 'https://www.cnn.com/2025/09/27/americas/us-revokes-colombia-president-visa-petro-intl-hnk', 'https://www.cnn.com/2025/09/27/china/russia-china-military-agreement-intl-hnk', 'https://www.cnn.com/2025/09/27/europe/putin-hybrid-war-europe-risks-intl', 'https://www.cnn.com/2025/09/27/asia/south-korea-fire-data-center-daejeon-intl-hnk', 'https://www.cnn.com/2025/09/26/europe/king-charles-pope-leo-state-visit-latam-intl', 'https://www.cnn.com/2025/09/26/americas/essay-finding-assata-shakur-cuba-fbi-latam-intl', 'https://www.cnn.com/2025/09/26/uk/kneecap-mo-chara-terrorism-charge-dismissed-intl-scli', 'https://www.cnn.com/2025/09/26/uk/kneecap-mo-chara-terrorism-charge-dismissed-intl-scli', 'https://www.cnn.com/2025/09/26/middleeast/gaza-war-medical-evacuations-children-intl', 'https://www.cnn.com/2025/09/26/middleeast/gaza-war-medical-evacuations-children-intl', 'https://www.cnn.com/2025/09/28/world/video/russia-drone-school-digvid', 'https://www.cnn.com/2025/09/28/world/video/russia-drone-school-digvid', 'https://www.cnn.com/2025/09/28/world/video/chris-fallows-beyond-the-lens-c2e', 'https://www.cnn.com/2025/09/28/world/video/chris-fallows-beyond-the-lens-c2e', 'https://www.cnn.com/india-crowd-crush-political-rally-will-ripley-digvid', 'https://www.cnn.com/india-crowd-crush-political-rally-will-ripley-digvid', 'https://www.cnn.com/2025/09/27/world/video/colombia-petro-us-visa-revoke-digvid', 'https://www.cnn.com/2025/09/27/world/video/colombia-petro-us-visa-revoke-digvid', 'https://www.cnn.com/2025/09/27/europe/paralympic-ban-russia-belarus-lifted-latam-intl', 'https://www.cnn.com/2025/09/27/europe/paralympic-ban-russia-belarus-lifted-latam-intl', 'https://www.cnn.com/2025/09/26/europe/moldova-election-russia-sandu-intl', 'https://www.cnn.com/2025/09/26/uk/british-nursery-hack-gbr-intl', 'https://www.cnn.com/2025/09/25/europe/germany-warning-russia-space-threat-intl', 'https://www.cnn.com/2025/09/25/europe/sarkozy-trial-libya-verdict-intl', 'https://www.cnn.com/2025/09/25/europe/interpol-liudmila-zavada-cold-case-scli-intl', 'https://www.cnn.com/2025/09/27/middleeast/gaza-trump-peace-plan-detail-israel', 'https://www.cnn.com/2025/09/27/middleeast/gaza-trump-peace-plan-detail-israel', 'https://www.cnn.com/2025/09/28/middleeast/israel-isolation-culture-eurovision-intl', 'https://www.cnn.com/2025/09/27/middleeast/iran-snapback-nuclear-sanctions-intl', 'https://www.cnn.com/2025/09/27/middleeast/israel-premier-tech-excluded-italy-race-latam-intl', 'https://www.cnn.com/2025/09/27/middleeast/israel-iran-phone-calls-intl', 'https://www.cnn.com/2025/09/26/middleeast/netanyahu-un-speech-walkout-latam-intl', 'https://www.cnn.com/2025/09/25/world/gallery/photos-this-week-september-18-september-25', 'https://www.cnn.com/2025/09/25/world/gallery/photos-this-week-september-18-september-25', 'https://www.cnn.com/2025/01/13/world/gallery/people-we-lost-2025', 'https://www.cnn.com/2025/01/13/world/gallery/people-we-lost-2025', 'https://www.cnn.com/2025/09/18/world/gallery/photos-this-week-september-11-september-18', 'https://www.cnn.com/2025/09/18/world/gallery/photos-this-week-september-11-september-18', 'https://www.cnn.com/2025/09/11/world/gallery/photos-this-week-september-04-september-11', 'https://www.cnn.com/2025/09/11/world/gallery/photos-this-week-september-04-september-11', 'https://www.cnn.com/world/africa/air-jaws-photographer-chris-fallows-rewilding-spc', 'https://www.cnn.com/world/africa/air-jaws-photographer-chris-fallows-rewilding-spc', 'https://www.cnn.com/2025/09/24/africa/eswatini-jamaican-deported-intl', 'https://www.cnn.com/2025/09/22/africa/dr-congo-rwanda-peace-deal-trump-fighting-intl-cmd', 'https://www.cnn.com/2025/09/21/africa/nigeria-malnutrition-crisis-usaid-intl', 'https://www.cnn.com/2025/09/26/americas/assata-shakur-fbi-fugitive-dies-cuba-latam-intl', 'https://www.cnn.com/2025/09/26/americas/assata-shakur-fbi-fugitive-dies-cuba-latam-intl', 'https://www.cnn.com/2025/09/25/americas/ecuador-esmeraldas-prison-clash-intl-latam', 'https://www.cnn.com/2025/09/23/americas/trump-autism-cuba-intl-latam', 'https://www.cnn.com/2025/09/23/americas/mexico-city-women-only-taxis-as-equals-intl-cmd', 'https://www.cnn.com/2025/09/27/asia/pakistan-esports-tekken-gamers-intl-hnk-dst', 'https://www.cnn.com/2025/09/27/asia/pakistan-esports-tekken-gamers-intl-hnk-dst', 'https://www.cnn.com/2025/09/25/asia/buddhist-monks-killed-cable-car-accident-intl', 'https://www.cnn.com/2025/09/23/asia/typhoon-ragasa-hong-kong-southern-china-impact-intl-hnk', 'https://www.cnn.com/2025/09/22/asia/typhoon-ragasa-china-guangdong-hong-kong-intl-hnk', 'https://www.cnn.com/travel/scenic-fall-drives-united-states', 'https://www.cnn.com/travel/scenic-fall-drives-united-states', 'https://www.cnn.com/2025/09/27/travel/travel-news-best-connected-airports-2025', 'https://www.cnn.com/2025/09/24/travel/worlds-coolest-neighborhood-for-2025-named-by-time-out', 'https://www.cnn.com/cnn-underscored/travel/best-crossbody-bags-purses-travel', 'https://www.cnn.com/travel/airline-seat-downgrade-heres-what-to-do', 'https://www.cnn.com/2025/09/28/style/bottega-veneta-spring-summer-2026-debut-louise-trotter', 'https://www.cnn.com/2025/09/28/style/bottega-veneta-spring-summer-2026-debut-louise-trotter', 'https://www.cnn.com/2025/09/28/style/art-museums-pressures-trump', 'https://www.cnn.com/2025/09/27/style/meryl-streep-devil-wears-prada-fashion-show-intl-latam', 'https://www.cnn.com/2025/09/27/style/versace-spring-summer-2026-debut-dario-vitale', 'https://www.cnn.com/style/prix-pictet-2025-storm-c2e-spc', 'https://www.cnn.com/2025/09/28/weather/tropical-storm-hurricane-imelda-humberto-track-climate', 'https://www.cnn.com/2025/09/28/weather/tropical-storm-hurricane-imelda-humberto-track-climate', 'https://www.cnn.com/2025/09/27/weather/tracking-tropical-cyclone-nine-imelda-flood-climate-hnk', 'https://www.cnn.com/2025/09/26/weather/clock-ticking-for-the-southeast-as-next-tropical-threat-organizes-with-us-impacts-likely-by-monday', 'https://www.cnn.com/2025/09/25/weather/fujiwhara-effect-hurricane-xpn-climate', 'https://www.cnn.com/2025/09/25/weather/atlantic-hurricane-forecast-humberto-imelda-climate-hnk', 'https://www.cnn.com/2025/09/26/world/hamas-negotiator-ghazi-hamad-interview-takeaways-intl', 'https://www.cnn.com/2025/09/26/world/hamas-negotiator-ghazi-hamad-interview-takeaways-intl', 'https://www.cnn.com/world/middleeast/net-zero-energy-mosque-abu-dhabi-spc', 'https://www.cnn.com/world/middleeast/net-zero-energy-mosque-abu-dhabi-spc', 'https://www.cnn.com/2025/09/26/world/video/netanyahu-un-speech-walkout-digvid', 'https://www.cnn.com/2025/09/26/world/video/netanyahu-un-speech-walkout-digvid', 'https://www.cnn.com/2025/09/25/world/drones-denmark-hybrid-attack-wwk-intl', 'https://www.cnn.com/2025/09/25/world/drones-denmark-hybrid-attack-wwk-intl', 'https://www.cnn.com/2025/09/25/world/video/ghazi-hamad-palestinians-hostages-gaza-diamond-dnt-digvid', 'https://www.cnn.com/2025/09/25/world/video/ghazi-hamad-palestinians-hostages-gaza-diamond-dnt-digvid', 'https://www.cnn.com/2025/09/25/world/video/finland-president-trump-ukraine-nato-russia', 'https://www.cnn.com/2025/09/25/world/video/finland-president-trump-ukraine-nato-russia', 'https://www.cnn.com/2025/09/25/world/video/syria-suwayda-violence', 'https://www.cnn.com/2025/09/25/world/video/syria-suwayda-violence', 'https://www.cnn.com/2025/09/25/middleeast/netanyahu-flight-war-crimes-intl', 'https://www.cnn.com/2025/09/25/middleeast/netanyahu-flight-war-crimes-intl', 'https://www.cnn.com/2025/09/25/middleeast/hamas-official-oct-7-golden-moment-intl', 'https://www.cnn.com/2025/09/25/middleeast/hamas-official-oct-7-golden-moment-intl', 'https://www.cnn.com/2025/09/25/middleeast/american-israeli-espionage-charges-iran-intl', 'https://www.cnn.com/2025/09/25/middleeast/american-israeli-espionage-charges-iran-intl', 'https://www.cnn.com/2025/09/24/world/italy-gaza-aid-flotilla-latam-intl', 'https://www.cnn.com/2025/09/24/world/italy-gaza-aid-flotilla-latam-intl', 'https://www.cnn.com/2025/09/25/world/video/trump-erdogan-meeting-putin-ukraine-digvid', 'https://www.cnn.com/2025/09/25/world/video/trump-erdogan-meeting-putin-ukraine-digvid', 'https://www.cnn.com/2025/09/24/style/kongjian-yu-sponge-city-intl-hnk-architect-dies', 'https://www.cnn.com/2025/09/24/style/kongjian-yu-sponge-city-intl-hnk-architect-dies', 'https://www.cnn.com/2025/09/09/style/hong-kong-bamboo-scaffolding-hnk-intl-dst', 'https://www.cnn.com/style/wind-turbine-blade-made-tiny-home-hnk-spc', 'https://www.cnn.com/2025/08/28/style/vietnam-architecture-climate-dfi', 'https://www.cnn.com/2025/08/15/style/citicorp-center-new-york-skyscraper', 'https://www.cnn.com/2025/09/27/sport/golf-ryder-cup-fans-team-europe', 'https://www.cnn.com/2025/09/27/sport/golf-ryder-cup-fans-team-europe', 'https://www.cnn.com/2025/09/27/sport/england-win-womens-rugby-world-cup-against-canada-intl-hnk', 'https://www.cnn.com/2025/09/27/sport/golf-ryder-cup-fans', 'https://www.cnn.com/2025/09/26/sport/golf-donald-trump-ryder-cup', 'https://www.cnn.com/2025/09/26/sport/ryder-cup-2025-format-explained', 'https://www.cnn.com/2025/09/27/tech/sillicon-valley-seniors-ai-course', 'https://www.cnn.com/2025/09/27/tech/sillicon-valley-seniors-ai-course', 'https://www.cnn.com/2025/09/25/tech/tiktok-executive-order-trump', 'https://www.cnn.com/2025/09/25/tech/microsoft-israel-surveillance', 'https://www.cnn.com/2025/09/25/tech/amazon-ftc-prime-settlement', 'https://www.cnn.com/2025/09/24/tech/trump-h1b-fee-callout', 'https://www.cnn.com/account/settings', 'https://www.cnn.com/newsletters', 'https://www.cnn.com/follow?iid=fw_var-nav', 'https://www.cnn.com/account/settings', 'https://www.cnn.com/newsletters', 'https://www.cnn.com/follow?iid=fw_var-nav']\n"
          ]
        }
      ],
      "source": [
        "print(links)\n"
      ]
    }
  ],
  "metadata": {
    "colab": {
      "provenance": [],
      "include_colab_link": true
    },
    "kernelspec": {
      "display_name": "Python 3",
      "name": "python3"
    },
    "language_info": {
      "name": "python"
    }
  },
  "nbformat": 4,
  "nbformat_minor": 0
}